{
 "cells": [
  {
   "cell_type": "code",
   "execution_count": 1,
   "id": "b187a558",
   "metadata": {},
   "outputs": [
    {
     "name": "stdout",
     "output_type": "stream",
     "text": [
      "Twinkle,twinkle,little star,\n",
      "           How i wonder what you are!\n",
      "           Up above the world so high,\n",
      "           Like a diamond in the sky,\n",
      "Twinkle,twinkle,little star,\n",
      "           How i wonder what you are!\n"
     ]
    }
   ],
   "source": [
    "#question: 1\n",
    "print (\"Twinkle\"\",\"\"twinkle\"\",\"\"little star\"\",\");\n",
    "print(\"           How i wonder what you are!\");\n",
    "print(\"           Up above the world so high\"\",\");\n",
    "print(\"           Like a diamond in the sky\"\",\");\n",
    "print (\"Twinkle\"\",\"\"twinkle\"\",\"\"little star\"\",\");\n",
    "print(\"           How i wonder what you are!\");"
   ]
  },
  {
   "cell_type": "code",
   "execution_count": 3,
   "id": "ec785480",
   "metadata": {},
   "outputs": [
    {
     "name": "stdout",
     "output_type": "stream",
     "text": [
      "python version\n",
      "version info\n"
     ]
    }
   ],
   "source": [
    "#question: 2\n",
    "print (\"python version\"); \n",
    "print(\"version info\");\n"
   ]
  },
  {
   "cell_type": "code",
   "execution_count": 4,
   "id": "d2715c4e",
   "metadata": {},
   "outputs": [
    {
     "name": "stdout",
     "output_type": "stream",
     "text": [
      "Current date and time : \n",
      "2021-10-24 16:18:56\n"
     ]
    }
   ],
   "source": [
    "#Question: 3\n",
    "import datetime\n",
    "now = datetime.datetime.now()\n",
    "print (\"Current date and time : \")\n",
    "print (now.strftime(\"%Y-%m-%d %H:%M:%S\"))"
   ]
  },
  {
   "cell_type": "code",
   "execution_count": 21,
   "id": "41ae7fd8",
   "metadata": {},
   "outputs": [
    {
     "name": "stdout",
     "output_type": "stream",
     "text": [
      "Enter radius of circle : 45\n",
      "Area of the circle is: 6361.725123519331\n"
     ]
    }
   ],
   "source": [
    "#question: 4\n",
    "from math import pi\n",
    "r = float(input (\"Enter radius of circle : \"))\n",
    "print (\"Area of the circle is: \" + str(pi * r**2))"
   ]
  },
  {
   "cell_type": "code",
   "execution_count": 6,
   "id": "d5ee0d00",
   "metadata": {},
   "outputs": [
    {
     "name": "stdout",
     "output_type": "stream",
     "text": [
      "Input your First Name  HOOR\n",
      "Input your Last Name  AHMED\n",
      "Hello  AHMED HOOR\n"
     ]
    }
   ],
   "source": [
    "#question: 5\n",
    "fname = input(\"Input your First Name  \");\n",
    "lname = input(\"Input your Last Name  \");\n",
    "print (\"Hello  \" + lname + \" \" + fname);"
   ]
  },
  {
   "cell_type": "code",
   "execution_count": 7,
   "id": "cc217d5b",
   "metadata": {},
   "outputs": [
    {
     "name": "stdout",
     "output_type": "stream",
     "text": [
      "enter first number56\n",
      "enter second number78\n",
      "add of 56 and 78 is 134\n"
     ]
    }
   ],
   "source": [
    "#question: 6\n",
    "a=int(input(\"enter first number\"));\n",
    "b=int(input(\"enter second number\"));\n",
    "print(\"add of\",a, \"and\",b,\"is\",a+b);"
   ]
  },
  {
   "cell_type": "code",
   "execution_count": 20,
   "id": "ffb0902e",
   "metadata": {},
   "outputs": [
    {
     "name": "stdout",
     "output_type": "stream",
     "text": [
      "Enter marks of oops43\n",
      "Enter marks of states56\n",
      "Enter marks of sirah87\n",
      "Enter marks of takwa23\n",
      "Enter marks of arbi90\n",
      "Grade: F\n"
     ]
    }
   ],
   "source": [
    "\n",
    "#question: 7\n",
    "oops=int(input(\"Enter marks of oops\"));\n",
    "states=int(input(\"Enter marks of states\"));\n",
    "sirah=int(input(\"Enter marks of sirah\"));\n",
    "takwa=int(input(\"Enter marks of takwa\"));\n",
    "arbi=int(input(\"Enter marks of arbi\"));\n",
    "total_marks=oops+states+sirah+takwa+arbi;\n",
    "per=(total_marks/500)*100;\n",
    "if(per>=90 and per<=100):\n",
    "   print(\"Grade: A\");\n",
    "elif(per>=80 and per<=90):\n",
    "   print(\"Grade: B\");\n",
    "elif(per>=70 and per<=80):\n",
    "   print(\"Grade: C\");\n",
    "elif(per>=60 and per<=70):\n",
    "   print(\"Grade: D\");\n",
    "else:\n",
    "   print(\"Grade: F\");"
   ]
  },
  {
   "cell_type": "code",
   "execution_count": 10,
   "id": "bb6b12f3",
   "metadata": {},
   "outputs": [
    {
     "name": "stdout",
     "output_type": "stream",
     "text": [
      "Enter a number46\n",
      "This is an even number\n"
     ]
    }
   ],
   "source": [
    "question: 8\n",
    "num=int(input(\"Enter a number\"));\n",
    "mod = num % 2\n",
    "if mod > num:\n",
    "   print(\"This is an odd number\"); \n",
    "else:\n",
    "   print(\"This is an even number\");"
   ]
  },
  {
   "cell_type": "code",
   "execution_count": 11,
   "id": "5deef9ae",
   "metadata": {},
   "outputs": [
    {
     "name": "stdout",
     "output_type": "stream",
     "text": [
      "6\n"
     ]
    }
   ],
   "source": [
    "#question: 9\n",
    "name=[\"zuli\",\"huzaifa\",\"farheen\",\"sabeen\",\"uzair\",\"ahsan\"];\n",
    "print(len(name));"
   ]
  },
  {
   "cell_type": "code",
   "execution_count": 13,
   "id": "ff7d80f2",
   "metadata": {},
   "outputs": [
    {
     "data": {
      "text/plain": [
       "55"
      ]
     },
     "execution_count": 13,
     "metadata": {},
     "output_type": "execute_result"
    }
   ],
   "source": [
    "#question: 10\n",
    ">>> list = [1,2,3,4,5,6,7,8,9,10]\n",
    ">>> sum(list)\n"
   ]
  },
  {
   "cell_type": "code",
   "execution_count": 17,
   "id": "1d308c9f",
   "metadata": {},
   "outputs": [
    {
     "name": "stdout",
     "output_type": "stream",
     "text": [
      "list items are: [1, 2, 3, 4, 5, 6, 7, 8, 9, 10]\n",
      "largest number is 10\n"
     ]
    }
   ],
   "source": [
    "#question: 11\n",
    "mylist = [1,2,3,4,5,6,7,8,9,10];\n",
    "print(\"list items are:\",mylist);\n",
    "max=mylist[0]\n",
    "for i in mylist:\n",
    "    if i>=max:\n",
    "        max=i\n",
    "print(\"largest number is\",max);\n"
   ]
  },
  {
   "cell_type": "code",
   "execution_count": 18,
   "id": "6a6254a5",
   "metadata": {},
   "outputs": [
    {
     "name": "stdout",
     "output_type": "stream",
     "text": [
      "elements less than 5\n",
      "1\n",
      "2\n",
      "3\n",
      "4\n"
     ]
    }
   ],
   "source": [
    "#question: 12\n",
    "mylist = [1,2,3,4,5,6,7,8,9,10];\n",
    "print(\"elements less than 5\");\n",
    "for i in mylist:\n",
    "    if i<5:\n",
    "        print(i)\n",
    "    "
   ]
  }
 ],
 "metadata": {
  "kernelspec": {
   "display_name": "Python 3",
   "language": "python",
   "name": "python3"
  },
  "language_info": {
   "codemirror_mode": {
    "name": "ipython",
    "version": 3
   },
   "file_extension": ".py",
   "mimetype": "text/x-python",
   "name": "python",
   "nbconvert_exporter": "python",
   "pygments_lexer": "ipython3",
   "version": "3.8.8"
  }
 },
 "nbformat": 4,
 "nbformat_minor": 5
}
